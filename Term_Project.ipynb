{
 "cells": [
  {
   "cell_type": "markdown",
   "metadata": {},
   "source": [
    "# 강화학습을 이용한 오델로(Othello)게임 학습"
   ]
  },
  {
   "cell_type": "markdown",
   "metadata": {},
   "source": [
    "###### 2019102083 김연수<br><br>2019102123 임달홍\n",
    "\n",
    "---"
   ]
  },
  {
   "cell_type": "markdown",
   "metadata": {},
   "source": [
    "## 0. 오델로(Othello)란?"
   ]
  },
  {
   "cell_type": "markdown",
   "metadata": {},
   "source": [
    "오델로(Othello)는 보드 게임의 한 종류이다. 리버시(Reversi)라고도 불린다. <br><br>두 명이 가로 세로 8칸의 오델로 판 위에서 한쪽은 검은색, 다른 한쪽은 흰색인 돌을 번갈아 놓으며 진행된다."
   ]
  },
  {
   "cell_type": "markdown",
   "metadata": {},
   "source": [
    "![오델로](https://www.eothello.com/images/how_to_play_othello_0.png \"othello\")"
   ]
  },
  {
   "cell_type": "markdown",
   "metadata": {},
   "source": [
    "### <게임 규칙>"
   ]
  },
  {
   "cell_type": "markdown",
   "metadata": {},
   "source": [
    "* 처음에 판 가운데에 사각형으로 엇갈리게 배치된 돌 4개를 놓고 시작한다.<br><br>\n",
    "* 돌은 반드시 상대방 돌을 양쪽에서 포위하여 뒤집을 수 있는 곳에 놓아야 한다.<br><br>\n",
    "* 돌을 뒤집을 곳이 없는 경우에는 차례가 자동적으로 상대방에게 넘어가게 된다.<br><br>\n",
    "* 아래와 같은 조건에 의해 양쪽 모두 더 이상 돌을 놓을 수 없게 되면 게임이 끝나게 된다.\n",
    "> 64개의 돌 모두가 판에 가득 찬 경우 (가장 일반적)<br><br>\n",
    "> 어느 한 쪽이 돌을 모두 뒤집은 경우<br><br>\n",
    "> 한 차례에 양 쪽 모두 서로 차례를 넘겨야 하는 경우\n",
    "\n",
    "* 게임이 끝났을 때 돌이 많이 있는 플레이어가 승자가 된다. 만일 돌의 개수가 같을 경우는 무승부가 된다."
   ]
  },
  {
   "cell_type": "markdown",
   "metadata": {},
   "source": [
    "출처 : https://ko.wikipedia.org/wiki/%EC%98%A4%EB%8D%B8%EB%A1%9C\n",
    "\n",
    "---"
   ]
  },
  {
   "cell_type": "markdown",
   "metadata": {},
   "source": [
    "## 1. 주제 선정 이유"
   ]
  },
  {
   "cell_type": "markdown",
   "metadata": {},
   "source": [
    "오델로는 2인 제로섬 유한 확정 완전정보 게임으로, <br><br>서로가 최선의 수를 둘 경우 반드시 선수필승 혹은 후수필승 혹은 무승부의 결과가 나오며, 이론상 상대의 모든 수를 미리 읽을 수 있는 게임이다.<br><br> 오델로를 제외하면 장기, 바둑, 오목 등이 이에 해당된다.<br><br>따라서, 이론상으로는 오델로도 필승법을 알아낼 수 있는 게임에 해당한다.<br><br>하지만 대부분의 보드게임은 경우의 수가 매우 많고, 인간의 머리로는 모든 수를 읽는 것이 불가능하기에 <br><br>강화학습(Reinforcement Learning)을 활용해 최선의 수가 무엇인지 탐색해보고자 한다.\n",
    "\n",
    "---"
   ]
  },
  {
   "cell_type": "markdown",
   "metadata": {},
   "source": [
    "## 2. 가설 정의"
   ]
  },
  {
   "cell_type": "markdown",
   "metadata": {},
   "source": [
    "오델로 게임의 특성상, 현재 상대의 돌을 얼마나 많이 뒤집느냐(당장의 이득)는 크게 중요하지 않은 경우가 많다."
   ]
  },
  {
   "cell_type": "markdown",
   "metadata": {},
   "source": [
    "<img src=\"https://greenothello.com/content/library/ffo_guide/3_1.jpg\" width=\"400\"/>"
   ]
  },
  {
   "cell_type": "markdown",
   "metadata": {},
   "source": [
    "그림 1의 네칸 남은 상황에서 흑은 단지 하나의 돌만을 가지고 있다. 그럼 백이 이기는 걸까?<br><br>\n",
    "흑은 a1이나 h8 둘중에 한곳에 둘 수 있다.<br><br>\n",
    "그리고 이 상황에서는 남은 칸을 모두 흑이 두게 되고(백은 둘 곳이 없기 때문에 흑의 매 수 다음에 패스가 난다),<br><br>\n",
    "최종 스코어는 40-24로 흑의 승리가 된다.<br><br>\n",
    "여기에서 게임이 거의 끝나갈 때 많은 돌을 가지고 있는 건 이기는데 큰 도움이 안된다는 것을 알 수 있다.<br><br>\n",
    "이에 따라, 당장의 수가 뒤집는 돌의 개수(얻는 현재의 이득)보다는<br><br>\n",
    "몇 수를 더 두었을 때의 수의 유리함(미래의 이득)을 예측할 수 있어야 한다는 이야기가 된다."
   ]
  },
  {
   "cell_type": "markdown",
   "metadata": {},
   "source": [
    "출처 : https://greenothello.com/library/ffo_guide3"
   ]
  },
  {
   "cell_type": "markdown",
   "metadata": {},
   "source": [
    "따라서, 강화학습을 통해 수를 놓았을 때 미래에 얻을 수 있는 이득의 기댓값을 예측할 수 있게 된다면\n",
    "\n",
    "> 강화학습을 통해 오델로 게임의 승률을 비약적으로 끌어올리거나 필승법을 알아낼 수 있지 않을까? \n",
    "\n",
    "라는 가설을 세울 수 있다.\n",
    "\n",
    "---\n"
   ]
  },
  {
   "cell_type": "markdown",
   "metadata": {},
   "source": [
    "## 3. 방향성"
   ]
  },
  {
   "cell_type": "markdown",
   "metadata": {},
   "source": [
    "* 오델로의 게임 규칙에 맞게 게임 설계 및 제작<br><br>\n",
    "* 오델로 게임을 플레이하고 학습할 Agent 구현<br><br>\n",
    "* 학습 진행 및 결과 분석"
   ]
  }
 ],
 "metadata": {
  "kernelspec": {
   "display_name": "Python 3",
   "language": "python",
   "name": "python3"
  },
  "language_info": {
   "codemirror_mode": {
    "name": "ipython",
    "version": 3
   },
   "file_extension": ".py",
   "mimetype": "text/x-python",
   "name": "python",
   "nbconvert_exporter": "python",
   "pygments_lexer": "ipython3",
   "version": "3.7.4"
  }
 },
 "nbformat": 4,
 "nbformat_minor": 2
}
